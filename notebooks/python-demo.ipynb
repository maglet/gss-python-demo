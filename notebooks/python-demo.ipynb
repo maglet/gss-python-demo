{
 "cells": [
  {
   "cell_type": "markdown",
   "metadata": {},
   "source": [
    "# Welcome to python!!\n",
    "\n",
    "We're going to show you the basics of using python"
   ]
  },
  {
   "cell_type": "code",
   "execution_count": 1,
   "metadata": {},
   "outputs": [
    {
     "data": {
      "text/plain": [
       "4"
      ]
     },
     "execution_count": 1,
     "metadata": {},
     "output_type": "execute_result"
    }
   ],
   "source": [
    "2 + 2"
   ]
  },
  {
   "cell_type": "markdown",
   "metadata": {},
   "source": [
    "# Loops\n",
    "\n",
    "How to perform the same operations on a list of things\n",
    "\n",
    "## Requires: \n",
    "- A collection ([2,3,5])\n",
    "- An iterator variable (number)\n",
    "- A body (print(number))\n",
    "\n",
    "## Syntax\n",
    "- A colon after the first line\n",
    "- the body must be indented"
   ]
  },
  {
   "cell_type": "code",
   "execution_count": 2,
   "metadata": {},
   "outputs": [
    {
     "name": "stdout",
     "output_type": "stream",
     "text": [
      "0\n",
      "1\n",
      "2\n"
     ]
    }
   ],
   "source": [
    "for number in [2,3,5]:\n",
    "    print(number)"
   ]
  },
  {
   "cell_type": "markdown",
   "metadata": {},
   "source": [
    "# Getting list of files in a directory\n",
    "\n",
    "## Requires\n",
    "- Importing a library called os\n",
    "\n",
    "## Syntax\n",
    "- library.function() - lets python know what library you're pulling the function from"
   ]
  },
  {
   "cell_type": "code",
   "execution_count": 9,
   "metadata": {},
   "outputs": [
    {
     "name": "stdout",
     "output_type": "stream",
     "text": [
      "['1990.csv', '1984.csv', '1985.csv', '1991.csv', '1978.csv', '1987.csv', '1993.csv', '1992.csv', '1986.csv', '1979.csv', '1982.csv', '1996.csv', '1997.csv', '1983.csv', '1995.csv', '1981.csv', '1980.csv', '1994.csv', '2001.csv', '2000.csv', '2002.csv', '1999.csv', '1998.csv', '1977.csv', '1988.csv', '1989.csv']\n"
     ]
    }
   ],
   "source": [
    "import os \n",
    "\n",
    "files = os.listdir('data')\n",
    "\n",
    "print(files)"
   ]
  },
  {
   "cell_type": "markdown",
   "metadata": {},
   "source": [
    "# Looping through files\n",
    "\n",
    "Use the collection you made above to loop through the files and print their names\n",
    "\n"
   ]
  },
  {
   "cell_type": "code",
   "execution_count": 10,
   "metadata": {},
   "outputs": [
    {
     "name": "stdout",
     "output_type": "stream",
     "text": [
      "1990.csv\n",
      "1984.csv\n",
      "1985.csv\n",
      "1991.csv\n",
      "1978.csv\n",
      "1987.csv\n",
      "1993.csv\n",
      "1992.csv\n",
      "1986.csv\n",
      "1979.csv\n",
      "1982.csv\n",
      "1996.csv\n",
      "1997.csv\n",
      "1983.csv\n",
      "1995.csv\n",
      "1981.csv\n",
      "1980.csv\n",
      "1994.csv\n",
      "2001.csv\n",
      "2000.csv\n",
      "2002.csv\n",
      "1999.csv\n",
      "1998.csv\n",
      "1977.csv\n",
      "1988.csv\n",
      "1989.csv\n"
     ]
    }
   ],
   "source": [
    "for file in files: \n",
    "    print(file)"
   ]
  },
  {
   "cell_type": "markdown",
   "metadata": {},
   "source": [
    "# How to read a data file with pandas\n",
    "\n",
    "## Requires\n",
    "- Loading the pandas data frame\n",
    "- Knowing the file path for the file\n",
    "\n",
    "## Syntax\n",
    "- Use'as' to rename panda to pd for brevity\n",
    "- library.function() syntax, as above\n",
    "\n"
   ]
  },
  {
   "cell_type": "code",
   "execution_count": 23,
   "metadata": {},
   "outputs": [
    {
     "name": "stdout",
     "output_type": "stream",
     "text": [
      "      Unnamed: 0  record_id  month  day  year  plot_id species_id  sex  \\\n",
      "0            104      17230      2   25  1990        2         NL    M   \n",
      "1            105      17877      9   25  1990        2         NL    F   \n",
      "2            106      17941     10   16  1990        2         NL    F   \n",
      "3            107      18110     12   15  1990        2         NL    F   \n",
      "4            560      17298      3   30  1990        2         DM    F   \n",
      "...          ...        ...    ...  ...   ...      ...        ...  ...   \n",
      "1291       34511      18100     12   15  1990        7         RM    F   \n",
      "1292       34512      18102     12   15  1990        7         RM    M   \n",
      "1293       34513      18111     12   15  1990        7         RM    M   \n",
      "1294       34705      17828      9   22  1990        7         AH  NaN   \n",
      "1295       34706      17836      9   22  1990        7         AH  NaN   \n",
      "\n",
      "      hindfoot_length  weight             genus    species    taxa  \\\n",
      "0                33.0   218.0           Neotoma   albigula  Rodent   \n",
      "1                 NaN   176.0           Neotoma   albigula  Rodent   \n",
      "2                33.0   195.0           Neotoma   albigula  Rodent   \n",
      "3                33.0   193.0           Neotoma   albigula  Rodent   \n",
      "4                37.0    46.0         Dipodomys   merriami  Rodent   \n",
      "...               ...     ...               ...        ...     ...   \n",
      "1291             17.0    14.0   Reithrodontomys  megalotis  Rodent   \n",
      "1292             17.0     8.0   Reithrodontomys  megalotis  Rodent   \n",
      "1293             16.0     8.0   Reithrodontomys  megalotis  Rodent   \n",
      "1294              NaN     NaN  Ammospermophilus    harrisi  Rodent   \n",
      "1295              NaN     NaN  Ammospermophilus    harrisi  Rodent   \n",
      "\n",
      "             plot_type  \n",
      "0              Control  \n",
      "1              Control  \n",
      "2              Control  \n",
      "3              Control  \n",
      "4              Control  \n",
      "...                ...  \n",
      "1291  Rodent Exclosure  \n",
      "1292  Rodent Exclosure  \n",
      "1293  Rodent Exclosure  \n",
      "1294  Rodent Exclosure  \n",
      "1295  Rodent Exclosure  \n",
      "\n",
      "[1296 rows x 14 columns]\n"
     ]
    }
   ],
   "source": [
    "import pandas as pd\n",
    "\n",
    "data1990 = pd.read_csv('data/1990.csv')\n",
    "\n",
    "print(data1990)"
   ]
  },
  {
   "cell_type": "markdown",
   "metadata": {},
   "source": [
    "# How to read a collection of files\n",
    "\n",
    "## Requires: \n",
    "- a for loop\n",
    "- a collection\n",
    "\n",
    "## Syntax\n",
    "- variable.function syntax - head can only be used on data frames"
   ]
  },
  {
   "cell_type": "code",
   "execution_count": 24,
   "metadata": {},
   "outputs": [
    {
     "name": "stdout",
     "output_type": "stream",
     "text": [
      "   Unnamed: 0  record_id  month  day  year  plot_id species_id sex  \\\n",
      "0         104      17230      2   25  1990        2         NL   M   \n",
      "\n",
      "   hindfoot_length  weight    genus   species    taxa plot_type  \n",
      "0             33.0   218.0  Neotoma  albigula  Rodent   Control  \n",
      "   Unnamed: 0  record_id  month  day  year  plot_id species_id sex  \\\n",
      "0          51       9048      4   10  1984        2         NL   F   \n",
      "\n",
      "   hindfoot_length  weight    genus   species    taxa plot_type  \n",
      "0             32.0   157.0  Neotoma  albigula  Rodent   Control  \n",
      "   Unnamed: 0  record_id  month  day  year  plot_id species_id sex  \\\n",
      "0          58      10606      7   24  1985        2         NL   F   \n",
      "\n",
      "   hindfoot_length  weight    genus   species    taxa plot_type  \n",
      "0             30.0    91.0  Neotoma  albigula  Rodent   Control  \n",
      "   Unnamed: 0  record_id  month  day  year  plot_id species_id sex  \\\n",
      "0         108      18364      2   16  1991        2         NL   F   \n",
      "\n",
      "   hindfoot_length  weight    genus   species    taxa plot_type  \n",
      "0             33.0   185.0  Neotoma  albigula  Rodent   Control  \n",
      "   Unnamed: 0  record_id  month  day  year  plot_id species_id  sex  \\\n",
      "0           7        506      1    8  1978        2         NL  NaN   \n",
      "\n",
      "   hindfoot_length  weight    genus   species    taxa plot_type  \n",
      "0              NaN     NaN  Neotoma  albigula  Rodent   Control  \n",
      "   Unnamed: 0  record_id  month  day  year  plot_id species_id sex  \\\n",
      "0          75      12299      2    1  1987        2         NL   M   \n",
      "\n",
      "   hindfoot_length  weight    genus   species    taxa plot_type  \n",
      "0             32.0   253.0  Neotoma  albigula  Rodent   Control  \n",
      "   Unnamed: 0  record_id  month  day  year  plot_id species_id sex  \\\n",
      "0         121      20992      7   14  1993        2         NL   M   \n",
      "\n",
      "   hindfoot_length  weight    genus   species    taxa plot_type  \n",
      "0             32.0    78.0  Neotoma  albigula  Rodent   Control  \n",
      "   Unnamed: 0  record_id  month  day  year  plot_id species_id sex  \\\n",
      "0         117      20040      5   30  1992        2         NL   F   \n",
      "\n",
      "   hindfoot_length  weight    genus   species    taxa plot_type  \n",
      "0             36.0   220.0  Neotoma  albigula  Rodent   Control  \n",
      "   Unnamed: 0  record_id  month  day  year  plot_id species_id sex  \\\n",
      "0          65      11329      3    9  1986        2         NL   M   \n",
      "\n",
      "   hindfoot_length  weight    genus   species    taxa plot_type  \n",
      "0             34.0   240.0  Neotoma  albigula  Rodent   Control  \n",
      "   Unnamed: 0  record_id  month  day  year  plot_id species_id sex  \\\n",
      "0          17       1756      4   29  1979        2         NL   M   \n",
      "\n",
      "   hindfoot_length  weight    genus   species    taxa plot_type  \n",
      "0             33.0   166.0  Neotoma  albigula  Rodent   Control  \n",
      "   Unnamed: 0  record_id  month  day  year  plot_id species_id sex  \\\n",
      "0          29       5180      1    1  1982        2         NL   M   \n",
      "\n",
      "   hindfoot_length  weight    genus   species    taxa plot_type  \n",
      "0              NaN   206.0  Neotoma  albigula  Rodent   Control  \n",
      "   Unnamed: 0  record_id  month  day  year  plot_id species_id sex  \\\n",
      "0         134      24589     10   12  1996        2         NL   M   \n",
      "\n",
      "   hindfoot_length  weight    genus   species    taxa plot_type  \n",
      "0             33.0   127.0  Neotoma  albigula  Rodent   Control  \n",
      "   Unnamed: 0  record_id  month  day  year  plot_id species_id sex  \\\n",
      "0         137      25247      3   15  1997        2         NL   M   \n",
      "\n",
      "   hindfoot_length  weight    genus   species    taxa plot_type  \n",
      "0             34.0   147.0  Neotoma  albigula  Rodent   Control  \n",
      "   Unnamed: 0  record_id  month  day  year  plot_id species_id sex  \\\n",
      "0          41       8022      6   18  1983        2         NL   F   \n",
      "\n",
      "   hindfoot_length  weight    genus   species    taxa plot_type  \n",
      "0             30.0   126.0  Neotoma  albigula  Rodent   Control  \n",
      "   Unnamed: 0  record_id  month  day  year  plot_id species_id sex  \\\n",
      "0         130      22314      6    7  1995        2         NL   M   \n",
      "\n",
      "   hindfoot_length  weight    genus   species    taxa plot_type  \n",
      "0             34.0     NaN  Neotoma  albigula  Rodent   Control  \n",
      "   Unnamed: 0  record_id  month  day  year  plot_id species_id sex  \\\n",
      "0          26       4667      7    8  1981        2         NL   F   \n",
      "\n",
      "   hindfoot_length  weight    genus   species    taxa plot_type  \n",
      "0             30.0   130.0  Neotoma  albigula  Rodent   Control  \n",
      "   Unnamed: 0  record_id  month  day  year  plot_id species_id sex  \\\n",
      "0          22       2406      1   16  1980        2         NL   F   \n",
      "\n",
      "   hindfoot_length  weight    genus   species    taxa plot_type  \n",
      "0             33.0   184.0  Neotoma  albigula  Rodent   Control  \n",
      "   Unnamed: 0  record_id  month  day  year  plot_id species_id sex  \\\n",
      "0         128      21507      4   10  1994        2         NL   M   \n",
      "\n",
      "   hindfoot_length  weight    genus   species    taxa plot_type  \n",
      "0              NaN   180.0  Neotoma  albigula  Rodent   Control  \n",
      "   Unnamed: 0  record_id  month  day  year  plot_id species_id sex  \\\n",
      "0         177      31717      1   21  2001        2         NL   M   \n",
      "\n",
      "   hindfoot_length  weight    genus   species    taxa plot_type  \n",
      "0             33.0   121.0  Neotoma  albigula  Rodent   Control  \n",
      "   Unnamed: 0  record_id  month  day  year  plot_id species_id sex  \\\n",
      "0         166      30172      1    8  2000        2         NL   F   \n",
      "\n",
      "   hindfoot_length  weight    genus   species    taxa plot_type  \n",
      "0             30.0   137.0  Neotoma  albigula  Rodent   Control  \n",
      "   Unnamed: 0  record_id  month  day  year  plot_id species_id  sex  \\\n",
      "0         189      33339      1   12  2002        2         NL  NaN   \n",
      "\n",
      "   hindfoot_length  weight    genus   species    taxa plot_type  \n",
      "0              NaN     NaN  Neotoma  albigula  Rodent   Control  \n",
      "   Unnamed: 0  record_id  month  day  year  plot_id species_id sex  \\\n",
      "0         157      29039      1   16  1999        2         NL   F   \n",
      "\n",
      "   hindfoot_length  weight    genus   species    taxa plot_type  \n",
      "0             34.0   162.0  Neotoma  albigula  Rodent   Control  \n",
      "   Unnamed: 0  record_id  month  day  year  plot_id species_id sex  \\\n",
      "0         145      27734      3   29  1998        2         NL   F   \n",
      "\n",
      "   hindfoot_length  weight    genus   species    taxa plot_type  \n",
      "0             33.0   188.0  Neotoma  albigula  Rodent   Control  \n",
      "   Unnamed: 0  record_id  month  day  year  plot_id species_id sex  \\\n",
      "0           0          1      7   16  1977        2         NL   M   \n",
      "\n",
      "   hindfoot_length  weight    genus   species    taxa plot_type  \n",
      "0             32.0     NaN  Neotoma  albigula  Rodent   Control  \n",
      "   Unnamed: 0  record_id  month  day  year  plot_id species_id sex  \\\n",
      "0          94      13977      1   24  1988        2         NL   F   \n",
      "\n",
      "   hindfoot_length  weight    genus   species    taxa plot_type  \n",
      "0             34.0   161.0  Neotoma  albigula  Rodent   Control  \n",
      "   Unnamed: 0  record_id  month  day  year  plot_id species_id sex  \\\n",
      "0         102      15780      3   13  1989        2         NL   M   \n",
      "\n",
      "   hindfoot_length  weight    genus   species    taxa plot_type  \n",
      "0             33.0   242.0  Neotoma  albigula  Rodent   Control  \n"
     ]
    }
   ],
   "source": [
    "\n",
    "for file in files: \n",
    "    data = pd.read_csv('data/'+file)\n",
    "    print(data.head(1))"
   ]
  },
  {
   "cell_type": "markdown",
   "metadata": {},
   "source": [
    "# How to combine data tables\n",
    "\n",
    "## Requires\n",
    "- A collector data frame\n",
    "- The function that concatenates dataframes (pd.concat)\n",
    "\n",
    "## Syntax\n",
    "- pd.concat takes the data frames to be concatenated in square brackets, and axis = 0, which concatenates thme end to end instead of side by side"
   ]
  },
  {
   "cell_type": "code",
   "execution_count": 20,
   "metadata": {},
   "outputs": [
    {
     "name": "stdout",
     "output_type": "stream",
     "text": [
      "      Unnamed: 0  record_id  month  day  year  plot_id species_id  sex  \\\n",
      "0            104      17230      2   25  1990        2         NL    M   \n",
      "1            105      17877      9   25  1990        2         NL    F   \n",
      "2            106      17941     10   16  1990        2         NL    F   \n",
      "3            107      18110     12   15  1990        2         NL    F   \n",
      "4            560      17298      3   30  1990        2         DM    F   \n",
      "...          ...        ...    ...  ...   ...      ...        ...  ...   \n",
      "1557       34737      16566     10    8  1989        7         AB  NaN   \n",
      "1558       34738      16769     12    4  1989        7         AB  NaN   \n",
      "1559       34739      16777     12    4  1989        7         AB  NaN   \n",
      "1560       34752      15946      4    2  1989        7         RF    M   \n",
      "1561       34753      16652     11    4  1989        7         RF    F   \n",
      "\n",
      "      hindfoot_length  weight            genus     species    taxa  \\\n",
      "0                33.0   218.0          Neotoma    albigula  Rodent   \n",
      "1                 NaN   176.0          Neotoma    albigula  Rodent   \n",
      "2                33.0   195.0          Neotoma    albigula  Rodent   \n",
      "3                33.0   193.0          Neotoma    albigula  Rodent   \n",
      "4                37.0    46.0        Dipodomys    merriami  Rodent   \n",
      "...               ...     ...              ...         ...     ...   \n",
      "1557              NaN     NaN       Amphispiza   bilineata    Bird   \n",
      "1558              NaN     NaN       Amphispiza   bilineata    Bird   \n",
      "1559              NaN     NaN       Amphispiza   bilineata    Bird   \n",
      "1560             17.0    11.0  Reithrodontomys  fulvescens  Rodent   \n",
      "1561             18.0    15.0  Reithrodontomys  fulvescens  Rodent   \n",
      "\n",
      "             plot_type  \n",
      "0              Control  \n",
      "1              Control  \n",
      "2              Control  \n",
      "3              Control  \n",
      "4              Control  \n",
      "...                ...  \n",
      "1557  Rodent Exclosure  \n",
      "1558  Rodent Exclosure  \n",
      "1559  Rodent Exclosure  \n",
      "1560  Rodent Exclosure  \n",
      "1561  Rodent Exclosure  \n",
      "\n",
      "[34786 rows x 14 columns]\n"
     ]
    }
   ],
   "source": [
    "alldata = pd.DataFrame()\n",
    "for file in files: \n",
    "    data = pd.read_csv('data/'+file)\n",
    "    alldata = pd.concat([alldata, data], axis=0)\n",
    "\n",
    "print(alldata)"
   ]
  },
  {
   "cell_type": "markdown",
   "metadata": {},
   "source": [
    "# How to write to csv:\n",
    "\n",
    "## Requires\n",
    "- the file path you'd like to write to \n",
    "\n",
    "## Syntax\n",
    "- varaiable.function, as above\n",
    "\n",
    "no output, check your files to see if it appeared."
   ]
  },
  {
   "cell_type": "code",
   "execution_count": 21,
   "metadata": {},
   "outputs": [],
   "source": [
    "alldata.to_csv('all_data.csv')"
   ]
  },
  {
   "cell_type": "code",
   "execution_count": null,
   "metadata": {},
   "outputs": [],
   "source": []
  }
 ],
 "metadata": {
  "kernelspec": {
   "display_name": "Python 3",
   "language": "python",
   "name": "python3"
  },
  "language_info": {
   "codemirror_mode": {
    "name": "ipython",
    "version": 3
   },
   "file_extension": ".py",
   "mimetype": "text/x-python",
   "name": "python",
   "nbconvert_exporter": "python",
   "pygments_lexer": "ipython3",
   "version": "3.7.4"
  }
 },
 "nbformat": 4,
 "nbformat_minor": 2
}
